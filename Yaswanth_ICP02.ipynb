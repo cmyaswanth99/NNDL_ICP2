{
  "nbformat": 4,
  "nbformat_minor": 0,
  "metadata": {
    "colab": {
      "provenance": []
    },
    "kernelspec": {
      "name": "python3",
      "display_name": "Python 3"
    },
    "language_info": {
      "name": "python"
    }
  },
  "cells": [
    {
      "cell_type": "code",
      "execution_count": 1,
      "metadata": {
        "colab": {
          "base_uri": "https://localhost:8080/"
        },
        "id": "WQvkzPW937y7",
        "outputId": "7740c175-5097-4d4d-ceaa-77c1d7e9af5b"
      },
      "outputs": [
        {
          "output_type": "stream",
          "name": "stdout",
          "text": [
            "Enter First Name: yaswanth\n",
            "Enter Last Name: Reddy\n",
            "fullname : Reddy yaswanth, Output from string alternative function: Redy aswnth\n"
          ]
        }
      ],
      "source": [
        "firstname = input(\"Enter First Name: \")\n",
        "lastname = input(\"Enter Last Name: \")\n",
        "\n",
        "# concatinating the strings with '+' symbol\n",
        "def fullname(firstname,lastname):\n",
        "    return lastname +\" \"+ firstname\n",
        "\n",
        "def string_alternative(s):\n",
        "    output = \"\"\n",
        "    # iterating each character of string\n",
        "    for i in s:\n",
        "        # If the character is  not present in output, then adds to it, if not skips the character. So only unique characters stored in output\n",
        "        if i.lower() not in output.lower():\n",
        "            output = output + i\n",
        "    return output\n",
        "\n",
        "if __name__ == '__main__':\n",
        "    full_name = fullname(firstname,lastname)\n",
        "    unique_characters = string_alternative(full_name)\n",
        "    print(\"fullname : {}, Output from string alternative function: {}\".format(full_name,unique_characters))"
      ]
    },
    {
      "cell_type": "code",
      "source": [
        "def wordcount():\n",
        "    output = dict()\n",
        "    words = []\n",
        "    count = 0\n",
        "    # Opened the input.txt file in read mode\n",
        "    with open(\"/content/Input.txt\",\"r\") as input_file:\n",
        "\n",
        "        # fetching each line from input.txt file using for loop and separating the words using split function\n",
        "        for i in input_file.readlines():\n",
        "            words = words + [i for i in i.split()]\n",
        "\n",
        "        # Storing the occurences of a word using dictionary\n",
        "        for word in words:\n",
        "            output[word] = output.get(word,0) + 1\n",
        "\n",
        "    # Opening the output.txt file with below command, if it doesn't exist it creates\n",
        "    with open(\"output.txt\",\"w\") as output_file:\n",
        "\n",
        "        # fetching the key, value pair from dictionary using for loop\n",
        "        for key in output:\n",
        "            # Writing the key, value onto the output.txt file\n",
        "            output_file.write(\"{}: {}\\n\".format(key,output[key]))\n",
        "\n",
        "if __name__ == '__main__':\n",
        "    wordcount()"
      ],
      "metadata": {
        "id": "1pifHIGK4cSq"
      },
      "execution_count": 6,
      "outputs": []
    },
    {
      "cell_type": "code",
      "source": [
        "s = input(\"Enter the heights in inches with space in between each and then press enter: \")\n",
        "# Converting the string of inches into list by using split function and converting them into float type.\n",
        "heights = [float(i) for i in s.split()]\n",
        "\n",
        "def inch_to_cms(l):\n",
        "    output1 = []\n",
        "    output2 = []\n",
        "    # Nested Interactive loop\n",
        "    for i in l:\n",
        "        output1.append(round(i*2.54,2))\n",
        "\n",
        "    # List comprehensions\n",
        "    output2 = [round(i*2.54,2) for i in l]\n",
        "\n",
        "    print(\"Output from Nested Interactive Loop: {}, Output from List Comprehensions:{}\".format(output1,output2))\n",
        "\n",
        "if __name__ == \"__main__\":\n",
        "  inch_to_cms(heights)"
      ],
      "metadata": {
        "colab": {
          "base_uri": "https://localhost:8080/"
        },
        "id": "T2kqWD796dDi",
        "outputId": "45f4081d-f1f0-4aaa-957b-e3c8a474fa6f"
      },
      "execution_count": 7,
      "outputs": [
        {
          "output_type": "stream",
          "name": "stdout",
          "text": [
            "Enter the heights in inches with space in between each and then press enter: 160\n",
            "Output from Nested Interactive Loop: [406.4], Output from List Comprehensions:[406.4]\n"
          ]
        }
      ]
    }
  ]
}